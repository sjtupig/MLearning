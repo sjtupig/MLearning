{
 "cells": [
  {
   "cell_type": "code",
   "execution_count": 1,
   "metadata": {},
   "outputs": [],
   "source": [
    "import sys\n",
    "from mxnet import nd, init\n",
    "import numpy as np\n",
    "from FMM import FMM\n",
    "from mxnet import nd, autograd\n",
    "from mxnet.gluon import data as gdata, loss as gloss, Trainer as gTrainer, nn"
   ]
  },
  {
   "cell_type": "code",
   "execution_count": 2,
   "metadata": {},
   "outputs": [],
   "source": [
    "sys.path.append('../')"
   ]
  },
  {
   "cell_type": "code",
   "execution_count": 3,
   "metadata": {},
   "outputs": [],
   "source": [
    "from utils import getFMMdata"
   ]
  },
  {
   "cell_type": "markdown",
   "metadata": {},
   "source": [
    "## 生成数据"
   ]
  },
  {
   "cell_type": "code",
   "execution_count": 4,
   "metadata": {},
   "outputs": [],
   "source": [
    "c = nd.random.randn(100, 4)\n",
    "b = np.random.randint(4, size = (100,2))\n",
    "d = np.random.randint(7, size = (100,1))\n",
    "X = nd.concat(c, nd.array(b),nd.array(d), dim = 1)\n",
    "X, n_feature, n_field, feature_field_index = getFMMdata(X, [4,5,6], sparse = True)\n",
    "y = nd.array(np.random.randint(2, size = (100,1)))"
   ]
  },
  {
   "cell_type": "code",
   "execution_count": 5,
   "metadata": {},
   "outputs": [
    {
     "data": {
      "text/plain": [
       "\n",
       "[[ 1.1630785   0.4838046   0.29956347 ...  0.          0.\n",
       "   0.        ]\n",
       " [-1.1688148   1.558071   -0.5459446  ...  1.          0.\n",
       "   0.        ]\n",
       " [ 0.54144025  2.6785064   1.2546344  ...  0.          0.\n",
       "   0.        ]\n",
       " ...\n",
       " [-0.14286809  0.4028798   1.5931915  ...  0.          0.\n",
       "   0.        ]\n",
       " [-0.34981632 -0.1317245  -1.5739428  ...  0.          0.\n",
       "   0.        ]\n",
       " [-1.2315758  -1.9084588   1.1850438  ...  0.          0.\n",
       "   0.        ]]\n",
       "<NDArray 100x19 @cpu(0)>"
      ]
     },
     "execution_count": 5,
     "metadata": {},
     "output_type": "execute_result"
    }
   ],
   "source": [
    "X"
   ]
  },
  {
   "cell_type": "markdown",
   "metadata": {},
   "source": [
    "## 建立模型"
   ]
  },
  {
   "cell_type": "code",
   "execution_count": 6,
   "metadata": {},
   "outputs": [],
   "source": [
    "fmm = FMM(n_feature, n_field, 3, feature_field_index)"
   ]
  },
  {
   "cell_type": "code",
   "execution_count": 7,
   "metadata": {},
   "outputs": [],
   "source": [
    "fmm.initialize()"
   ]
  },
  {
   "cell_type": "code",
   "execution_count": 8,
   "metadata": {},
   "outputs": [
    {
     "data": {
      "text/plain": [
       "\n",
       "[0.4]\n",
       "<NDArray 1 @cpu(0)>"
      ]
     },
     "execution_count": 8,
     "metadata": {},
     "output_type": "execute_result"
    }
   ],
   "source": [
    "y_hat = fmm.predict(X)\n",
    "sum(y_hat==y)/len(y)"
   ]
  },
  {
   "cell_type": "code",
   "execution_count": 9,
   "metadata": {},
   "outputs": [
    {
     "name": "stdout",
     "output_type": "stream",
     "text": [
      "1 iter: loss is: \n",
      "[0.6941841]\n",
      "<NDArray 1 @cpu(0)> loss reduction is: \n",
      "[0.00988615]\n",
      "<NDArray 1 @cpu(0)>\n",
      "2 iter: loss is: \n",
      "[0.68665266]\n",
      "<NDArray 1 @cpu(0)> loss reduction is: \n",
      "[0.00753146]\n",
      "<NDArray 1 @cpu(0)>\n",
      "3 iter: loss is: \n",
      "[0.6805513]\n",
      "<NDArray 1 @cpu(0)> loss reduction is: \n",
      "[0.00610137]\n",
      "<NDArray 1 @cpu(0)>\n",
      "4 iter: loss is: \n",
      "[0.6756989]\n",
      "<NDArray 1 @cpu(0)> loss reduction is: \n",
      "[0.00485241]\n",
      "<NDArray 1 @cpu(0)>\n",
      "5 iter: loss is: \n",
      "[0.67151505]\n",
      "<NDArray 1 @cpu(0)> loss reduction is: \n",
      "[0.00418383]\n",
      "<NDArray 1 @cpu(0)>\n",
      "6 iter: loss is: \n",
      "[0.6677909]\n",
      "<NDArray 1 @cpu(0)> loss reduction is: \n",
      "[0.00372416]\n",
      "<NDArray 1 @cpu(0)>\n",
      "7 iter: loss is: \n",
      "[0.66449374]\n",
      "<NDArray 1 @cpu(0)> loss reduction is: \n",
      "[0.00329715]\n",
      "<NDArray 1 @cpu(0)>\n",
      "8 iter: loss is: \n",
      "[0.66156936]\n",
      "<NDArray 1 @cpu(0)> loss reduction is: \n",
      "[0.00292438]\n",
      "<NDArray 1 @cpu(0)>\n",
      "9 iter: loss is: \n",
      "[0.65881294]\n",
      "<NDArray 1 @cpu(0)> loss reduction is: \n",
      "[0.00275642]\n",
      "<NDArray 1 @cpu(0)>\n",
      "10 iter: loss is: \n",
      "[0.6561533]\n",
      "<NDArray 1 @cpu(0)> loss reduction is: \n",
      "[0.00265962]\n",
      "<NDArray 1 @cpu(0)>\n"
     ]
    }
   ],
   "source": [
    "fmm.train(X, y, 10)"
   ]
  },
  {
   "cell_type": "code",
   "execution_count": 10,
   "metadata": {},
   "outputs": [
    {
     "data": {
      "text/plain": [
       "\n",
       "[0.61]\n",
       "<NDArray 1 @cpu(0)>"
      ]
     },
     "execution_count": 10,
     "metadata": {},
     "output_type": "execute_result"
    }
   ],
   "source": [
    "y_hat = fmm.predict(X)\n",
    "sum(y_hat==y)/len(y)"
   ]
  },
  {
   "cell_type": "code",
   "execution_count": null,
   "metadata": {},
   "outputs": [],
   "source": []
  }
 ],
 "metadata": {
  "kernelspec": {
   "display_name": "py36",
   "language": "python",
   "name": "py36"
  },
  "language_info": {
   "codemirror_mode": {
    "name": "ipython",
    "version": 3
   },
   "file_extension": ".py",
   "mimetype": "text/x-python",
   "name": "python",
   "nbconvert_exporter": "python",
   "pygments_lexer": "ipython3",
   "version": "3.6.7"
  }
 },
 "nbformat": 4,
 "nbformat_minor": 2
}
