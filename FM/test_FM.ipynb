{
 "cells": [
  {
   "cell_type": "code",
   "execution_count": 1,
   "metadata": {},
   "outputs": [],
   "source": [
    "from sklearn.datasets import load_iris\n",
    "from FM import FM\n",
    "from mxnet import nd"
   ]
  },
  {
   "cell_type": "markdown",
   "metadata": {},
   "source": [
    "## 获取数据"
   ]
  },
  {
   "cell_type": "code",
   "execution_count": 2,
   "metadata": {},
   "outputs": [],
   "source": [
    "iris = load_iris()"
   ]
  },
  {
   "cell_type": "code",
   "execution_count": 3,
   "metadata": {},
   "outputs": [],
   "source": [
    "X = nd.array(iris.data[iris.target<=1])\n",
    "y = nd.array(iris.target[iris.target<=1]).reshape(-1,1)"
   ]
  },
  {
   "cell_type": "markdown",
   "metadata": {},
   "source": [
    "## 定义模型，初始化模型参数"
   ]
  },
  {
   "cell_type": "code",
   "execution_count": 4,
   "metadata": {},
   "outputs": [],
   "source": [
    "fm = FM(X.shape[1], 1)"
   ]
  },
  {
   "cell_type": "code",
   "execution_count": 5,
   "metadata": {},
   "outputs": [],
   "source": [
    "fm.initialize()"
   ]
  },
  {
   "cell_type": "code",
   "execution_count": 6,
   "metadata": {},
   "outputs": [
    {
     "data": {
      "text/plain": [
       "(\n",
       " [[0.0068339 ]\n",
       "  [0.01299825]\n",
       "  [0.0301265 ]\n",
       "  [0.04819721]]\n",
       " <NDArray 4x1 @cpu(0)>, \n",
       " [[0.01438687]]\n",
       " <NDArray 1x1 @cpu(0)>, \n",
       " [[ 0.05011239]\n",
       "  [ 0.00628365]\n",
       "  [ 0.04861524]\n",
       "  [-0.01068833]]\n",
       " <NDArray 4x1 @cpu(0)>)"
      ]
     },
     "execution_count": 6,
     "metadata": {},
     "output_type": "execute_result"
    }
   ],
   "source": [
    "fm.params.get('w').data(),fm.params.get('b').data(),fm.params.get('latent_vec').data()"
   ]
  },
  {
   "cell_type": "markdown",
   "metadata": {},
   "source": [
    "查看次数预测结果"
   ]
  },
  {
   "cell_type": "code",
   "execution_count": 7,
   "metadata": {},
   "outputs": [
    {
     "data": {
      "text/plain": [
       "\n",
       "[0.5]\n",
       "<NDArray 1 @cpu(0)>"
      ]
     },
     "execution_count": 7,
     "metadata": {},
     "output_type": "execute_result"
    }
   ],
   "source": [
    "y_hat = fm.predict(X)\n",
    "sum(y == y_hat)/len(y)"
   ]
  },
  {
   "cell_type": "code",
   "execution_count": 8,
   "metadata": {},
   "outputs": [
    {
     "name": "stdout",
     "output_type": "stream",
     "text": [
      "1 iter: loss is: \n",
      "[0.20082207]\n",
      "<NDArray 1 @cpu(0)> loss reduction is: \n",
      "[0.45206302]\n",
      "<NDArray 1 @cpu(0)>\n",
      "2 iter: loss is: \n",
      "[0.03032378]\n",
      "<NDArray 1 @cpu(0)> loss reduction is: \n",
      "[0.1704983]\n",
      "<NDArray 1 @cpu(0)>\n",
      "3 iter: loss is: \n",
      "[0.01998705]\n",
      "<NDArray 1 @cpu(0)> loss reduction is: \n",
      "[0.01033673]\n",
      "<NDArray 1 @cpu(0)>\n",
      "4 iter: loss is: \n",
      "[0.0143636]\n",
      "<NDArray 1 @cpu(0)> loss reduction is: \n",
      "[0.00562345]\n",
      "<NDArray 1 @cpu(0)>\n",
      "5 iter: loss is: \n",
      "[0.01277235]\n",
      "<NDArray 1 @cpu(0)> loss reduction is: \n",
      "[0.00159125]\n",
      "<NDArray 1 @cpu(0)>\n",
      "6 iter: loss is: \n",
      "[0.0116449]\n",
      "<NDArray 1 @cpu(0)> loss reduction is: \n",
      "[0.00112745]\n",
      "<NDArray 1 @cpu(0)>\n",
      "7 iter: loss is: \n",
      "[0.01139508]\n",
      "<NDArray 1 @cpu(0)> loss reduction is: \n",
      "[0.00024982]\n",
      "<NDArray 1 @cpu(0)>\n",
      "8 iter: loss is: \n",
      "[0.01048394]\n",
      "<NDArray 1 @cpu(0)> loss reduction is: \n",
      "[0.00091114]\n",
      "<NDArray 1 @cpu(0)>\n",
      "9 iter: loss is: \n",
      "[0.01023621]\n",
      "<NDArray 1 @cpu(0)> loss reduction is: \n",
      "[0.00024773]\n",
      "<NDArray 1 @cpu(0)>\n",
      "10 iter: loss is: \n",
      "[0.01024973]\n",
      "<NDArray 1 @cpu(0)> loss reduction is: \n",
      "[-1.3523735e-05]\n",
      "<NDArray 1 @cpu(0)>\n"
     ]
    }
   ],
   "source": [
    "fm.train(X, y, max_iter = 10, l2 = 0.1)"
   ]
  },
  {
   "cell_type": "code",
   "execution_count": 9,
   "metadata": {},
   "outputs": [
    {
     "data": {
      "text/plain": [
       "(\n",
       " [[-0.14097525]\n",
       "  [-0.17745481]\n",
       "  [ 0.14783707]\n",
       "  [ 0.09303869]]\n",
       " <NDArray 4x1 @cpu(0)>, \n",
       " [[-0.03462808]]\n",
       " <NDArray 1x1 @cpu(0)>, \n",
       " [[ 0.5855861 ]\n",
       "  [-0.31412977]\n",
       "  [ 0.4269909 ]\n",
       "  [ 0.2838337 ]]\n",
       " <NDArray 4x1 @cpu(0)>)"
      ]
     },
     "execution_count": 9,
     "metadata": {},
     "output_type": "execute_result"
    }
   ],
   "source": [
    "fm.params.get('w').data(),fm.params.get('b').data(),fm.params.get('latent_vec').data()"
   ]
  },
  {
   "cell_type": "code",
   "execution_count": 10,
   "metadata": {},
   "outputs": [
    {
     "data": {
      "text/plain": [
       "\n",
       "[1.]\n",
       "<NDArray 1 @cpu(0)>"
      ]
     },
     "execution_count": 10,
     "metadata": {},
     "output_type": "execute_result"
    }
   ],
   "source": [
    "y_hat = fm.predict(X)\n",
    "sum(y==y_hat)/len(y)"
   ]
  },
  {
   "cell_type": "code",
   "execution_count": null,
   "metadata": {},
   "outputs": [],
   "source": []
  },
  {
   "cell_type": "code",
   "execution_count": null,
   "metadata": {},
   "outputs": [],
   "source": []
  }
 ],
 "metadata": {
  "kernelspec": {
   "display_name": "py36",
   "language": "python",
   "name": "py36"
  },
  "language_info": {
   "codemirror_mode": {
    "name": "ipython",
    "version": 3
   },
   "file_extension": ".py",
   "mimetype": "text/x-python",
   "name": "python",
   "nbconvert_exporter": "python",
   "pygments_lexer": "ipython3",
   "version": "3.6.7"
  }
 },
 "nbformat": 4,
 "nbformat_minor": 2
}
