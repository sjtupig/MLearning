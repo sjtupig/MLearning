{
 "cells": [
  {
   "cell_type": "code",
   "execution_count": 1,
   "metadata": {},
   "outputs": [],
   "source": [
    "from sklearn.datasets import load_iris\n",
    "from FM import FM\n",
    "from mxnet import nd"
   ]
  },
  {
   "cell_type": "markdown",
   "metadata": {},
   "source": [
    "## 获取数据"
   ]
  },
  {
   "cell_type": "code",
   "execution_count": 2,
   "metadata": {},
   "outputs": [],
   "source": [
    "iris = load_iris()"
   ]
  },
  {
   "cell_type": "code",
   "execution_count": 3,
   "metadata": {},
   "outputs": [],
   "source": [
    "X = nd.array(iris.data[iris.target<=1])\n",
    "y = nd.array(iris.target[iris.target<=1]).reshape(-1,1)"
   ]
  },
  {
   "cell_type": "markdown",
   "metadata": {},
   "source": [
    "## 定义模型，初始化模型参数"
   ]
  },
  {
   "cell_type": "code",
   "execution_count": 4,
   "metadata": {},
   "outputs": [],
   "source": [
    "fm = FM(X.shape[1], 1)"
   ]
  },
  {
   "cell_type": "code",
   "execution_count": 5,
   "metadata": {},
   "outputs": [],
   "source": [
    "fm.initialize()"
   ]
  },
  {
   "cell_type": "code",
   "execution_count": 6,
   "metadata": {},
   "outputs": [
    {
     "data": {
      "text/plain": [
       "(\n",
       " [[0.0068339 ]\n",
       "  [0.01299825]\n",
       "  [0.0301265 ]\n",
       "  [0.04819721]]\n",
       " <NDArray 4x1 @cpu(0)>, \n",
       " [[0.01438687]]\n",
       " <NDArray 1x1 @cpu(0)>, \n",
       " [[ 0.05011239]\n",
       "  [ 0.00628365]\n",
       "  [ 0.04861524]\n",
       "  [-0.01068833]]\n",
       " <NDArray 4x1 @cpu(0)>)"
      ]
     },
     "execution_count": 6,
     "metadata": {},
     "output_type": "execute_result"
    }
   ],
   "source": [
    "fm.params.get('w').data(),fm.params.get('b').data(),fm.params.get('latent_vec').data()"
   ]
  },
  {
   "cell_type": "markdown",
   "metadata": {},
   "source": [
    "查看次数预测结果"
   ]
  },
  {
   "cell_type": "code",
   "execution_count": 7,
   "metadata": {},
   "outputs": [
    {
     "data": {
      "text/plain": [
       "\n",
       "[0.5]\n",
       "<NDArray 1 @cpu(0)>"
      ]
     },
     "execution_count": 7,
     "metadata": {},
     "output_type": "execute_result"
    }
   ],
   "source": [
    "y_hat = fm.predict(X)\n",
    "sum(y == y_hat)/len(y)"
   ]
  },
  {
   "cell_type": "code",
   "execution_count": 8,
   "metadata": {},
   "outputs": [
    {
     "name": "stdout",
     "output_type": "stream",
     "text": [
      "1 iter: loss is: \n",
      "[0.2893535]\n",
      "<NDArray 1 @cpu(0)> loss reduction is: \n",
      "[0.38635582]\n",
      "<NDArray 1 @cpu(0)>\n",
      "2 iter: loss is: \n",
      "[0.23570988]\n",
      "<NDArray 1 @cpu(0)> loss reduction is: \n",
      "[0.05364361]\n",
      "<NDArray 1 @cpu(0)>\n",
      "3 iter: loss is: \n",
      "[0.23306307]\n",
      "<NDArray 1 @cpu(0)> loss reduction is: \n",
      "[0.0026468]\n",
      "<NDArray 1 @cpu(0)>\n",
      "4 iter: loss is: \n",
      "[0.23439975]\n",
      "<NDArray 1 @cpu(0)> loss reduction is: \n",
      "[-0.00133668]\n",
      "<NDArray 1 @cpu(0)>\n"
     ]
    }
   ],
   "source": [
    "fm.train(X, y, max_iter = 10, l1 = 0.1, l2 = 0.1)"
   ]
  },
  {
   "cell_type": "code",
   "execution_count": 9,
   "metadata": {},
   "outputs": [
    {
     "data": {
      "text/plain": [
       "(\n",
       " [[-0.16305032]\n",
       "  [-0.20041142]\n",
       "  [ 0.16833992]\n",
       "  [ 0.11050786]]\n",
       " <NDArray 4x1 @cpu(0)>, \n",
       " [[-0.03649265]]\n",
       " <NDArray 1x1 @cpu(0)>, \n",
       " [[ 0.5496404 ]\n",
       "  [-0.28602466]\n",
       "  [ 0.41530913]\n",
       "  [ 0.26841986]]\n",
       " <NDArray 4x1 @cpu(0)>)"
      ]
     },
     "execution_count": 9,
     "metadata": {},
     "output_type": "execute_result"
    }
   ],
   "source": [
    "fm.params.get('w').data(),fm.params.get('b').data(),fm.params.get('latent_vec').data()"
   ]
  },
  {
   "cell_type": "code",
   "execution_count": 10,
   "metadata": {},
   "outputs": [
    {
     "data": {
      "text/plain": [
       "\n",
       "[1.]\n",
       "<NDArray 1 @cpu(0)>"
      ]
     },
     "execution_count": 10,
     "metadata": {},
     "output_type": "execute_result"
    }
   ],
   "source": [
    "y_hat = fm.predict(X)\n",
    "sum(y==y_hat)/len(y)"
   ]
  },
  {
   "cell_type": "code",
   "execution_count": 11,
   "metadata": {},
   "outputs": [],
   "source": [
    "fm.initialize(force_reinit=True)"
   ]
  },
  {
   "cell_type": "code",
   "execution_count": 12,
   "metadata": {},
   "outputs": [
    {
     "data": {
      "text/plain": [
       "fm0_ (\n",
       "  Parameter fm0_w (shape=(4, 1), dtype=<class 'numpy.float32'>)\n",
       "  Parameter fm0_b (shape=(1, 1), dtype=<class 'numpy.float32'>)\n",
       "  Parameter fm0_latent_vec (shape=(4, 1), dtype=<class 'numpy.float32'>)\n",
       ")"
      ]
     },
     "execution_count": 12,
     "metadata": {},
     "output_type": "execute_result"
    }
   ],
   "source": [
    "fm.collect_params()"
   ]
  },
  {
   "cell_type": "code",
   "execution_count": 13,
   "metadata": {},
   "outputs": [
    {
     "name": "stdout",
     "output_type": "stream",
     "text": [
      "1 iter: loss is: \n",
      "[0.08071773]\n",
      "<NDArray 1 @cpu(0)> loss reduction is: \n",
      "[0.6143174]\n",
      "<NDArray 1 @cpu(0)>\n",
      "2 iter: loss is: \n",
      "[0.01954453]\n",
      "<NDArray 1 @cpu(0)> loss reduction is: \n",
      "[0.0611732]\n",
      "<NDArray 1 @cpu(0)>\n",
      "3 iter: loss is: \n",
      "[0.01027214]\n",
      "<NDArray 1 @cpu(0)> loss reduction is: \n",
      "[0.00927239]\n",
      "<NDArray 1 @cpu(0)>\n",
      "4 iter: loss is: \n",
      "[0.00731521]\n",
      "<NDArray 1 @cpu(0)> loss reduction is: \n",
      "[0.00295694]\n",
      "<NDArray 1 @cpu(0)>\n",
      "5 iter: loss is: \n",
      "[0.00539641]\n",
      "<NDArray 1 @cpu(0)> loss reduction is: \n",
      "[0.00191879]\n",
      "<NDArray 1 @cpu(0)>\n",
      "6 iter: loss is: \n",
      "[0.00439355]\n",
      "<NDArray 1 @cpu(0)> loss reduction is: \n",
      "[0.00100286]\n",
      "<NDArray 1 @cpu(0)>\n",
      "7 iter: loss is: \n",
      "[0.00363327]\n",
      "<NDArray 1 @cpu(0)> loss reduction is: \n",
      "[0.00076028]\n",
      "<NDArray 1 @cpu(0)>\n",
      "8 iter: loss is: \n",
      "[0.00307247]\n",
      "<NDArray 1 @cpu(0)> loss reduction is: \n",
      "[0.0005608]\n",
      "<NDArray 1 @cpu(0)>\n",
      "9 iter: loss is: \n",
      "[0.00267749]\n",
      "<NDArray 1 @cpu(0)> loss reduction is: \n",
      "[0.00039499]\n",
      "<NDArray 1 @cpu(0)>\n",
      "10 iter: loss is: \n",
      "[0.00237321]\n",
      "<NDArray 1 @cpu(0)> loss reduction is: \n",
      "[0.00030427]\n",
      "<NDArray 1 @cpu(0)>\n"
     ]
    }
   ],
   "source": [
    "fm.train(X, y, max_iter = 10)"
   ]
  },
  {
   "cell_type": "code",
   "execution_count": 14,
   "metadata": {},
   "outputs": [
    {
     "data": {
      "text/plain": [
       "(\n",
       " [[-0.12046286]\n",
       "  [-0.17704517]\n",
       "  [ 0.15732752]\n",
       "  [ 0.07244895]]\n",
       " <NDArray 4x1 @cpu(0)>, \n",
       " [[-0.07127073]]\n",
       " <NDArray 1x1 @cpu(0)>, \n",
       " [[ 0.7127195 ]\n",
       "  [-0.39491937]\n",
       "  [ 0.518989  ]\n",
       "  [ 0.30683222]]\n",
       " <NDArray 4x1 @cpu(0)>)"
      ]
     },
     "execution_count": 14,
     "metadata": {},
     "output_type": "execute_result"
    }
   ],
   "source": [
    "fm.params.get('w').data(),fm.params.get('b').data(),fm.params.get('latent_vec').data()"
   ]
  },
  {
   "cell_type": "code",
   "execution_count": null,
   "metadata": {},
   "outputs": [],
   "source": []
  }
 ],
 "metadata": {
  "kernelspec": {
   "display_name": "py36",
   "language": "python",
   "name": "py36"
  },
  "language_info": {
   "codemirror_mode": {
    "name": "ipython",
    "version": 3
   },
   "file_extension": ".py",
   "mimetype": "text/x-python",
   "name": "python",
   "nbconvert_exporter": "python",
   "pygments_lexer": "ipython3",
   "version": "3.6.7"
  }
 },
 "nbformat": 4,
 "nbformat_minor": 2
}
